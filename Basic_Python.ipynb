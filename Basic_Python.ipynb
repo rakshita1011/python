{
 "cells": [
  {
   "cell_type": "markdown",
   "metadata": {},
   "source": [
    "### Experimenting with multiplying strings or lists with integers and see what happens. Having seen that ;create a variable which holds value\n",
    "#### ‘xyzxyzxyzxyzxyzxyzxyzxyzxyzxyz’\n",
    "   \n"
   ]
  },
  {
   "cell_type": "code",
   "execution_count": 17,
   "metadata": {},
   "outputs": [
    {
     "name": "stdout",
     "output_type": "stream",
     "text": [
      "xyzxyzxyzxyzxyzxyzxyzxyzxyzxyz\n"
     ]
    }
   ],
   "source": [
    "l1 = ['x','y','z']\n",
    "l1=''.join(l1*10)\n",
    "print(l1)"
   ]
  },
  {
   "cell_type": "code",
   "execution_count": 18,
   "metadata": {},
   "outputs": [
    {
     "name": "stdout",
     "output_type": "stream",
     "text": [
      "xyzxyzxyzxyzxyzxyzxyzxyzxyzxyz\n"
     ]
    }
   ],
   "source": [
    "str = 'xyz'\n",
    "str=str*10\n",
    "print(str)"
   ]
  },
  {
   "cell_type": "markdown",
   "metadata": {},
   "source": [
    "### Using list comprehension ,list related functions or otherwise, create following list:\n",
    "\n",
    "  #### [[1, 2, 3, 4, 5, 6, 7], [1, 4, 9, 16, 25, 36, 49], [1, 8, 27, 64, 125, 216,343]]\n"
   ]
  },
  {
   "cell_type": "code",
   "execution_count": 19,
   "metadata": {},
   "outputs": [
    {
     "name": "stdout",
     "output_type": "stream",
     "text": [
      "[[1, 2, 3, 4, 5, 6, 7], [1, 4, 9, 16, 25, 36, 49], [1, 8, 27, 64, 125, 216, 343]]\n"
     ]
    }
   ],
   "source": [
    "list1=[]\n",
    "\n",
    "x=[1,2,3,4,5,6,7]\n",
    "y=[i**2 for i in x]\n",
    "z=[i**3 for i in x]\n",
    "\n",
    "print([x]+[y]+[z])\n"
   ]
  },
  {
   "cell_type": "code",
   "execution_count": 20,
   "metadata": {},
   "outputs": [
    {
     "data": {
      "text/plain": [
       "[[1, 2, 3, 4, 5, 6, 7],\n",
       " [1, 4, 9, 16, 25, 36, 49],\n",
       " [1, 8, 27, 64, 125, 216, 343]]"
      ]
     },
     "execution_count": 20,
     "metadata": {},
     "output_type": "execute_result"
    }
   ],
   "source": [
    "\n",
    "def results(x,z):\n",
    "    list1=[]\n",
    "    for i in range(1,x+1):\n",
    "        list1.append([ n**i for n in range(1,z+1)])\n",
    "    return list1\n",
    "\n",
    "results(3,7)"
   ]
  },
  {
   "cell_type": "markdown",
   "metadata": {},
   "source": [
    "### Function which takes input 3 dictionaries and returns a new dictionary which has all key value pairs from those three dictionaries "
   ]
  },
  {
   "cell_type": "code",
   "execution_count": 21,
   "metadata": {},
   "outputs": [
    {
     "data": {
      "text/plain": [
       "{'Australia': 'Steve Smith',\n",
       " 'New Zealand': 'Kane Willianson',\n",
       " 'India': 'Virat Kohli',\n",
       " 'England': 'Joe Root',\n",
       " 'West Indies': 'Chris Gayle',\n",
       " 'Country': 'Cricket Player',\n",
       " 1: 'one',\n",
       " 2: 'two',\n",
       " 'float': '1.666667',\n",
       " 'string': 'last'}"
      ]
     },
     "execution_count": 21,
     "metadata": {},
     "output_type": "execute_result"
    }
   ],
   "source": [
    "#merging dictionaries:\n",
    "\n",
    "d_1={'Australia':'Steve Smith','New Zealand':'Kane Willianson','India':'Virat Kohli'}\n",
    "d_2={'England':'Joe Root','West Indies':'Chris Gayle','Country':'Cricket Player'}\n",
    "d_3={1:'one',2:'two','float':'1.666667','string':\"last\"}\n",
    "\n",
    " \n",
    "res = {**d_1, **d_2,**d_3} \n",
    "res\n"
   ]
  },
  {
   "cell_type": "markdown",
   "metadata": {},
   "source": [
    "### Consider this dictionary of addresses :\n",
    "\n",
    "#### {“home” : [“Hyderabad”,“Lingampally”,“Ph:1234567890”],\n",
    "\n",
    "#### “office”:[“Maharashtra”,“Mumbai”,“Ghatkopar”,“Ph : 5432167809”,“Pin :400043”],\n",
    "\n",
    "#### “OOI” : [“Singapore”,“Ph : 09876345”]}\n",
    "\n",
    "#### program to extract phone numbers for each location "
   ]
  },
  {
   "cell_type": "code",
   "execution_count": 22,
   "metadata": {},
   "outputs": [
    {
     "name": "stdout",
     "output_type": "stream",
     "text": [
      "Ph:1234567890\n",
      "Ph : 5432167809\n",
      "Ph : 09876345\n"
     ]
    }
   ],
   "source": [
    "addr = {'home': ['Hyderabad','Lingampally','Ph:1234567890'], \\\n",
    "'office':['Maharashtra','Mumbai','Ghatkopar','Ph : 5432167809','Pin :400043'],\\\n",
    "'OOI': ['Singapore','Ph : 09876345']} \n",
    "for vals in addr.values():\n",
    "    for obj in vals:\n",
    "         if 'Ph' in obj:\n",
    "            print(obj)"
   ]
  },
  {
   "cell_type": "markdown",
   "metadata": {},
   "source": [
    "### Reverse the string using slicing:"
   ]
  },
  {
   "cell_type": "code",
   "execution_count": 23,
   "metadata": {},
   "outputs": [
    {
     "data": {
      "text/plain": [
       "'ATIHSKAR'"
      ]
     },
     "execution_count": 23,
     "metadata": {},
     "output_type": "execute_result"
    }
   ],
   "source": [
    "x='RAKSHITA'\n",
    "x[::-1]"
   ]
  },
  {
   "cell_type": "markdown",
   "metadata": {},
   "source": [
    "### Use List comprehension to create a list of all numbers between 1 and 50 that are divisible by 3."
   ]
  },
  {
   "cell_type": "code",
   "execution_count": 24,
   "metadata": {},
   "outputs": [
    {
     "name": "stdout",
     "output_type": "stream",
     "text": [
      "[3, 6, 9, 12, 15, 18, 21, 24, 27, 30, 33, 36, 39, 42, 45, 48]\n"
     ]
    }
   ],
   "source": [
    "my_num = range(1,51)\n",
    "\n",
    "list2 = []\n",
    "\n",
    "for num in my_num:\n",
    "  if num % 3 == 0:\n",
    "    list2.append(num)\n",
    "print(list2)"
   ]
  },
  {
   "cell_type": "markdown",
   "metadata": {},
   "source": [
    "### Program that prints the integers from 1 to 100. But for multiples of three print \"Fizz\" instead of the number, and for the multiples of five print \"Buzz\". For numbers which are multiples of both three and five print \"FizzBuzz\"."
   ]
  },
  {
   "cell_type": "code",
   "execution_count": 25,
   "metadata": {},
   "outputs": [
    {
     "name": "stdout",
     "output_type": "stream",
     "text": [
      "fizzbuzz\n",
      "1\n",
      "2\n",
      "fizz\n",
      "4\n",
      "buzz\n",
      "fizz\n",
      "7\n",
      "8\n",
      "fizz\n",
      "buzz\n",
      "11\n",
      "fizz\n",
      "13\n",
      "14\n",
      "fizzbuzz\n",
      "16\n",
      "17\n",
      "fizz\n",
      "19\n",
      "buzz\n",
      "fizz\n",
      "22\n",
      "23\n",
      "fizz\n",
      "buzz\n",
      "26\n",
      "fizz\n",
      "28\n",
      "29\n",
      "fizzbuzz\n",
      "31\n",
      "32\n",
      "fizz\n",
      "34\n",
      "buzz\n",
      "fizz\n",
      "37\n",
      "38\n",
      "fizz\n",
      "buzz\n",
      "41\n",
      "fizz\n",
      "43\n",
      "44\n",
      "fizzbuzz\n",
      "46\n",
      "47\n",
      "fizz\n",
      "49\n",
      "buzz\n"
     ]
    }
   ],
   "source": [
    "for fizzbuzz in range(51):\n",
    "    if fizzbuzz % 3 == 0 and fizzbuzz % 5 == 0:\n",
    "        print(\"fizzbuzz\")\n",
    "        continue\n",
    "    elif fizzbuzz % 3 == 0:\n",
    "        print(\"fizz\")\n",
    "        continue\n",
    "    elif fizzbuzz % 5 == 0:\n",
    "        print(\"buzz\")\n",
    "        continue\n",
    "    print(fizzbuzz)"
   ]
  },
  {
   "cell_type": "code",
   "execution_count": null,
   "metadata": {},
   "outputs": [],
   "source": []
  },
  {
   "cell_type": "code",
   "execution_count": null,
   "metadata": {},
   "outputs": [],
   "source": []
  }
 ],
 "metadata": {
  "kernelspec": {
   "display_name": "Python 3",
   "language": "python",
   "name": "python3"
  },
  "language_info": {
   "codemirror_mode": {
    "name": "ipython",
    "version": 3
   },
   "file_extension": ".py",
   "mimetype": "text/x-python",
   "name": "python",
   "nbconvert_exporter": "python",
   "pygments_lexer": "ipython3",
   "version": "3.8.8"
  }
 },
 "nbformat": 4,
 "nbformat_minor": 2
}
